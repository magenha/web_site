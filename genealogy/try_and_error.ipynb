{
 "cells": [
  {
   "cell_type": "code",
   "execution_count": 188,
   "id": "12a9e0f1",
   "metadata": {},
   "outputs": [
    {
     "data": {
      "text/plain": [
       "<module 'logging' from '/usr/lib/python3.10/logging/__init__.py'>"
      ]
     },
     "execution_count": 188,
     "metadata": {},
     "output_type": "execute_result"
    }
   ],
   "source": [
    "import pandas as pd\n",
    "import os, random\n",
    "\n",
    "from importlib import reload  # Not needed in Python 2\n",
    "import logging\n",
    "reload(logging)"
   ]
  },
  {
   "cell_type": "code",
   "execution_count": 189,
   "id": "ad03409c",
   "metadata": {},
   "outputs": [],
   "source": [
    "# Global information about user\n",
    "user_info = {}\n",
    "with open('.usr', 'r') as f:\n",
    "    lines = f.readlines()\n",
    "    for line in lines:\n",
    "        a = line.split(' = ')\n",
    "        user_info[a[0].replace('user_', '')] = a[1]"
   ]
  },
  {
   "cell_type": "code",
   "execution_count": 190,
   "id": "77e6a234",
   "metadata": {},
   "outputs": [],
   "source": [
    "def set_logging():\n",
    "    logging.basicConfig(\n",
    "        format='%(asctime)s %(levelname)s %(message)s',\n",
    "        level=logging.INFO,\n",
    "        datefmt='%m/%d/%Y %I:%M:%S %p'\n",
    "        )\n",
    "    logger = logging.getLogger('logger')\n",
    "    logger.propagate = False\n",
    "    fl = logging.FileHandler(\"spam.log\")\n",
    "    fl.setLevel(logging.INFO)\n",
    "    logger.addHandler(fl)\n",
    "    return logger"
   ]
  },
  {
   "cell_type": "code",
   "execution_count": null,
   "id": "b674d11c",
   "metadata": {},
   "outputs": [],
   "source": []
  },
  {
   "cell_type": "code",
   "execution_count": null,
   "id": "4905bfcb",
   "metadata": {},
   "outputs": [],
   "source": []
  },
  {
   "cell_type": "code",
   "execution_count": 181,
   "id": "6fb7aeb0",
   "metadata": {},
   "outputs": [],
   "source": [
    "#db person\n",
    "\n",
    "db_person = pd.DataFrame([], columns=['id', 'sex', 'name', 'last_name'])\n"
   ]
  },
  {
   "cell_type": "code",
   "execution_count": 196,
   "id": "91352ff6",
   "metadata": {},
   "outputs": [],
   "source": [
    "def add_person():\n",
    "    '''\n",
    "        Function that adds a person to database\n",
    "    '''\n",
    "    global db_person\n",
    "    global user_info\n",
    "    global logger\n",
    "    \n",
    "    #generate id\n",
    "    id = random.randint(0, 2**5-1)\n",
    "    \n",
    "    #check that id is not in database\n",
    "    while id in db_person.index:\n",
    "        id = random.randint(0, 2**5-1)        \n",
    "    \n",
    "    #Ask for\n",
    "   \n",
    "    #sex\n",
    "    print('Please type the sex (m or f) of the person: ')\n",
    "    sex = input()\n",
    "    #name\n",
    "    print('Please type the name(s) of the person: ')\n",
    "    name = input()\n",
    "    #last_name\n",
    "    print('Please type the last name(s) of the person: ')\n",
    "    last_name = input()\n",
    "    #Save\n",
    "    new_row = {'id': id, 'sex': sex, 'name': name, 'last_name': last_name}\n",
    "    db_person = db_person.append(new_row, ignore_index=True)\n",
    "    \n",
    "    #Add log\n",
    "    user_name = user_info['name']\n",
    "    #logger.info('test')\n",
    "    logger.info(f'User {user_name} added a new person named {name} {last_name} with id={id}')\n",
    "    return None\n",
    "\n",
    "def delete_person(rm_id):\n",
    "    '''\n",
    "        Function that deletes a person from database\n",
    "        having it's id\n",
    "    '''\n",
    "    global db_person\n",
    "    global user_info\n",
    "    global logger\n",
    "    \n",
    "    i = db_person[db_person.id == rm_id].index\n",
    "    \n",
    "    db_person = db_person.drop(i)\n",
    "    \n",
    "    #Add log\n",
    "    user_name = user_info['name']\n",
    "    #logger.info(f'User {user_name} deleted person named {name} {last_name} with id={id}')\n",
    "    del(user_name)\n",
    "    \n",
    "    return None"
   ]
  },
  {
   "cell_type": "code",
   "execution_count": 197,
   "id": "ab778a22",
   "metadata": {},
   "outputs": [
    {
     "name": "stdout",
     "output_type": "stream",
     "text": [
      "Please type the sex (m or f) of the person: \n",
      "r\n",
      "Please type the name(s) of the person: \n",
      "r\n",
      "Please type the last name(s) of the person: \n",
      "r\n"
     ]
    },
    {
     "name": "stderr",
     "output_type": "stream",
     "text": [
      "/tmp/ipykernel_3102/2760259435.py:29: FutureWarning: The frame.append method is deprecated and will be removed from pandas in a future version. Use pandas.concat instead.\n",
      "  db_person = db_person.append(new_row, ignore_index=True)\n"
     ]
    }
   ],
   "source": [
    "logger = set_logging()\n",
    "add_person()"
   ]
  },
  {
   "cell_type": "code",
   "execution_count": 199,
   "id": "02c7f01e",
   "metadata": {},
   "outputs": [
    {
     "data": {
      "text/html": [
       "<div>\n",
       "<style scoped>\n",
       "    .dataframe tbody tr th:only-of-type {\n",
       "        vertical-align: middle;\n",
       "    }\n",
       "\n",
       "    .dataframe tbody tr th {\n",
       "        vertical-align: top;\n",
       "    }\n",
       "\n",
       "    .dataframe thead th {\n",
       "        text-align: right;\n",
       "    }\n",
       "</style>\n",
       "<table border=\"1\" class=\"dataframe\">\n",
       "  <thead>\n",
       "    <tr style=\"text-align: right;\">\n",
       "      <th></th>\n",
       "      <th>id</th>\n",
       "      <th>sex</th>\n",
       "      <th>name</th>\n",
       "      <th>last_name</th>\n",
       "    </tr>\n",
       "  </thead>\n",
       "  <tbody>\n",
       "    <tr>\n",
       "      <th>0</th>\n",
       "      <td>29</td>\n",
       "      <td>a</td>\n",
       "      <td>e</td>\n",
       "      <td>t</td>\n",
       "    </tr>\n",
       "    <tr>\n",
       "      <th>1</th>\n",
       "      <td>15</td>\n",
       "      <td>a</td>\n",
       "      <td>e</td>\n",
       "      <td>r</td>\n",
       "    </tr>\n",
       "    <tr>\n",
       "      <th>2</th>\n",
       "      <td>19</td>\n",
       "      <td>a</td>\n",
       "      <td>e</td>\n",
       "      <td>t</td>\n",
       "    </tr>\n",
       "    <tr>\n",
       "      <th>3</th>\n",
       "      <td>4</td>\n",
       "      <td>r</td>\n",
       "      <td>r</td>\n",
       "      <td>r</td>\n",
       "    </tr>\n",
       "  </tbody>\n",
       "</table>\n",
       "</div>"
      ],
      "text/plain": [
       "   id sex name last_name\n",
       "0  29   a    e         t\n",
       "1  15   a    e         r\n",
       "2  19   a    e         t\n",
       "3   4   r    r         r"
      ]
     },
     "execution_count": 199,
     "metadata": {},
     "output_type": "execute_result"
    }
   ],
   "source": [
    "db_person"
   ]
  },
  {
   "cell_type": "code",
   "execution_count": null,
   "id": "9e436966",
   "metadata": {},
   "outputs": [],
   "source": []
  },
  {
   "cell_type": "code",
   "execution_count": null,
   "id": "9c67371c",
   "metadata": {},
   "outputs": [],
   "source": []
  },
  {
   "cell_type": "code",
   "execution_count": null,
   "id": "d62e9c1b",
   "metadata": {},
   "outputs": [],
   "source": []
  }
 ],
 "metadata": {
  "kernelspec": {
   "display_name": "Python 3 (ipykernel)",
   "language": "python",
   "name": "python3"
  },
  "language_info": {
   "codemirror_mode": {
    "name": "ipython",
    "version": 3
   },
   "file_extension": ".py",
   "mimetype": "text/x-python",
   "name": "python",
   "nbconvert_exporter": "python",
   "pygments_lexer": "ipython3",
   "version": "3.10.6"
  }
 },
 "nbformat": 4,
 "nbformat_minor": 5
}
